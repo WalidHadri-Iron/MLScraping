{
 "cells": [
  {
   "cell_type": "code",
   "execution_count": 6,
   "id": "faa1b8ff-211f-492b-be53-acc843f3fd1b",
   "metadata": {},
   "outputs": [],
   "source": [
    "import pandas as pd\n",
    "from selenium import webdriver\n",
    "import glob\n",
    "import os\n",
    "from tqdm import tqdm\n",
    "import re\n",
    "df_annotated_clean = pd.read_excel(\"df_annotated_cleaned.xlsx\")\n",
    "geckodriver_path=r'C:\\Users\\Walid\\Desktop\\Selenium\\geckodriver.exe'"
   ]
  },
  {
   "cell_type": "markdown",
   "id": "c6122f28-1c2f-4d3c-934d-e2edf7a491a8",
   "metadata": {
    "tags": []
   },
   "source": [
    "# I. First BaseLine based on the Metadata\n",
    "\n",
    "Each HTML page has a head that contains information about the page and instructions for web browsers and search engine web crawlers.\n",
    "\n",
    "Check this page to know more about the Metadata https://html.com/document/metadata/\n",
    "\n",
    "\n",
    "From the Metadata we get the title and the description"
   ]
  },
  {
   "cell_type": "markdown",
   "id": "4dedaa89-b901-4190-8ae8-8e7fe68bca8e",
   "metadata": {},
   "source": [
    "## 1. Single Example"
   ]
  },
  {
   "cell_type": "code",
   "execution_count": 42,
   "id": "1173d237-c922-4c35-be9c-cef39877c467",
   "metadata": {},
   "outputs": [],
   "source": [
    "driver = webdriver.Firefox(executable_path=geckodriver_path)"
   ]
  },
  {
   "cell_type": "code",
   "execution_count": 59,
   "id": "b0a65290-dceb-4299-8c4f-2e0f01a1dfa7",
   "metadata": {},
   "outputs": [
    {
     "name": "stdout",
     "output_type": "stream",
     "text": [
      "Meuble bas \"Garcinia\" blanc brillant l.40 x h.72 x p.57 cm 1 porte + 1 tiroir - Brico Dépôt\n",
      "--------------------------------------------------------------\n",
      " - Brico Dépôt\n"
     ]
    }
   ],
   "source": [
    "i = 35\n",
    "url_local = df_annotated['URL_Local'][i]\n",
    "driver.get(os.getcwd()+'\\\\'+url_local)\n",
    "title = driver.title\n",
    "description = driver.find_element_by_xpath(\"//*[@name='description']\").get_attribute(\"content\")\n",
    "print(title)\n",
    "print(\"--------------------------------------------------------------\")\n",
    "print(description)"
   ]
  },
  {
   "cell_type": "markdown",
   "id": "bff8de2e-2acf-4f74-960b-43f307b976c4",
   "metadata": {},
   "source": [
    "## 2. What's in the metadata"
   ]
  },
  {
   "cell_type": "code",
   "execution_count": 26,
   "id": "ed2fd375-fcd2-4a38-9031-c74a11922937",
   "metadata": {},
   "outputs": [],
   "source": [
    "metadata = driver.find_elements_by_xpath(\"//meta\")\n",
    "metadata = [driver.execute_script('var items = {}; for (index = 0; index < arguments[0].attributes.length; ++index) { items[arguments[0].attributes[index].name] = arguments[0].attributes[index].value }; return items;', metadata[i]) for i in range(len(metadata))]\n",
    "# metadata"
   ]
  },
  {
   "cell_type": "code",
   "execution_count": 77,
   "id": "35e8d74e-0d3e-4ea4-aae6-527e75927d37",
   "metadata": {},
   "outputs": [],
   "source": [
    "def firs_baseline(df_annotated_clean, geckodriver_path=r'C:\\Users\\Walid\\Desktop\\Selenium\\geckodriver.exe'):\n",
    "    description_missing = 0\n",
    "    price_missing = 0\n",
    "    out = []\n",
    "    driver = webdriver.Firefox(executable_path=geckodriver_path)\n",
    "    \n",
    "    for i in tqdm(range(df_annotated_clean.shape[0])):\n",
    "        url_local = df_annotated_clean['URL_Local'][i]\n",
    "        driver.get(os.getcwd()+'\\\\'+url_local)\n",
    "\n",
    "        title = driver.title\n",
    "        try:\n",
    "            description = driver.find_element_by_xpath(\"//*[@name='description']\").get_attribute(\"content\")\n",
    "        except:\n",
    "            description_missing += 1\n",
    "            description = \"\"\n",
    "        element_price = driver.find_elements_by_xpath(\"//*[contains(@property,'price')]\")\n",
    "        for element in element_price:\n",
    "            try :\n",
    "                price = float(element.replace(',','.'))\n",
    "                break\n",
    "            except:\n",
    "                price =\"\"\n",
    "                price_missing+=1\n",
    "                \n",
    "        \n",
    "        out.append([url_local, df_annotated_clean['URL_Live'][i], df_annotated_clean['URL_Parent'][i], title, description, price])\n",
    "        \n",
    "    df_out = pd.DataFrame(out, columns=['URL_Local','URL_Live','URL_Parent','Title_Content','Description_Content','Price_content'])\n",
    "    df_out.to_excel('First_Baseline.xlsx', index=False)\n",
    "    driver.close()\n",
    "    return df_out, df_annotated_clean.shape[0], '{:.1%}'.format(1), '{:.1%}'.format(1-description_missing/df_annotated_clean.shape[0]), '{:.1%}'.format(1-price_missing/df_annotated_clean.shape[0])"
   ]
  },
  {
   "cell_type": "code",
   "execution_count": 78,
   "id": "4eec760a-03ce-4658-82bd-96004a93ca11",
   "metadata": {},
   "outputs": [
    {
     "name": "stderr",
     "output_type": "stream",
     "text": [
      "100%|██████████████████████████████████████████████████████████████████████████████████| 57/57 [00:22<00:00,  2.57it/s]\n"
     ]
    }
   ],
   "source": [
    "df_out, nbr_observations, title_availability, description_availability, price_availability = firs_baseline(df_anhnoated_clean)"
   ]
  },
  {
   "cell_type": "markdown",
   "id": "c07c6977-d424-4b92-ad58-f55c2d776b8d",
   "metadata": {},
   "source": [
    "## 3. What's wrong with the first baseline\n",
    "\n",
    "    1. The metadata content is not the same content displayed on the webpage for instance we can find that the title are not exactly the same, however they contains the same information. Same for description"
   ]
  },
  {
   "cell_type": "code",
   "execution_count": 76,
   "id": "7a9df7a4-fe82-4545-9c0a-f7bb770acf66",
   "metadata": {},
   "outputs": [
    {
     "name": "stdout",
     "output_type": "stream",
     "text": [
      "Tile is available:  100.0%\n",
      "Description is available:  98.2%\n",
      "Price is available:  40.4%\n"
     ]
    }
   ],
   "source": [
    "print(\"The number of observation is\":, nbr_observations)\n",
    "print(\"Title is available: \", title_availability )\n",
    "print(\"Description is available: \", description_availability)   \n",
    "print(\"Price is available: \", price_availability)"
   ]
  },
  {
   "cell_type": "markdown",
   "id": "c0d87b7f-7e4e-44dd-a60f-5d6933a7efa9",
   "metadata": {},
   "source": [
    "# II. Second BaseLine based on the vocabulary related to each element\n",
    "\n",
    "We look for element that are supposed to contain title, description and price based on the tag names, class names...."
   ]
  },
  {
   "cell_type": "code",
   "execution_count": 79,
   "id": "53c4b645-299b-45a0-9ef4-4bb8d57634e1",
   "metadata": {},
   "outputs": [],
   "source": [
    "from requests_testadapter import Resp\n",
    "import extruct\n",
    "from w3lib.html import get_base_url\n",
    "import requests\n",
    "\n",
    "class LocalFileAdapter(requests.adapters.HTTPAdapter):\n",
    "    def build_response_from_file(self, request):\n",
    "        file_path = request.url[7:]\n",
    "        with open(file_path, 'rb') as file:\n",
    "            buff = bytearray(os.path.getsize(file_path))\n",
    "            file.readinto(buff)\n",
    "            resp = Resp(buff)\n",
    "            r = self.build_response(request, resp)\n",
    "\n",
    "            return r\n",
    "\n",
    "    def send(self, request, stream=False, timeout=None,\n",
    "             verify=True, cert=None, proxies=None):\n",
    "\n",
    "        return self.build_response_from_file(request)\n",
    "\n",
    "def get_html(url):\n",
    "    \"\"\"Get raw HTML from a URL.\"\"\"\n",
    "    requests_session = requests.session()\n",
    "    requests_session.mount('file://', LocalFileAdapter())\n",
    "    r = requests_session.get('file://'+urls[1])\n",
    "    return r.text"
   ]
  },
  {
   "cell_type": "code",
   "execution_count": 9,
   "id": "fc770047-5892-4266-bcf9-e5b3f78e802f",
   "metadata": {},
   "outputs": [],
   "source": [
    "# driver = webdriver.Firefox(executable_path=geckodriver_path)\n",
    "\n",
    "def second_baseline(df_annotated_clean, geckodriver_path=r'C:\\Users\\Walid\\Desktop\\Selenium\\geckodriver.exe'):\n",
    "    price_missing = 0\n",
    "    title_missing = 0\n",
    "    out = []\n",
    "    driver = webdriver.Firefox(executable_path=geckodriver_path)\n",
    "    \n",
    "    for i in tqdm(range(df_annotated_clean.shape[0])):\n",
    "        url_local = df_annotated_clean['URL_Local'][i]\n",
    "        driver.get(os.getcwd()+'\\\\'+url_local)\n",
    "        \n",
    "        title_elements = driver.find_elements_by_tag_name(\"h1\")\n",
    "        title_txt = \"\"\n",
    "        for element in title_elements:\n",
    "            if len(element.text) > 0 :\n",
    "                title_txt = element.text\n",
    "            break\n",
    "        \n",
    "        price_elements = driver.find_elements_by_xpath(\"//*[contains(@class,'price')]\")\n",
    "        price = \"\"\n",
    "        for element in price_elements:\n",
    "            price_txt = element.text\n",
    "            numbers = re.findall(r\"[-+]?\\d*\\.\\d+|\\d+ \", price_txt.replace(',','.'))\n",
    "            if numbers!=[]:\n",
    "                price = numbers[0]\n",
    "                break\n",
    "        out.append([url_local, df_annotated_clean['URL_Live'][i], df_annotated_clean['URL_Parent'][i], title_txt, price])\n",
    "        \n",
    "    df_out = pd.DataFrame(out, columns=['URL_Local','URL_Live','URL_Parent','Title_Content','Price_content'])\n",
    "    df_out.to_excel('Second_Baseline.xlsx', index=False)\n",
    "    driver.close()\n",
    "    return df_out"
   ]
  },
  {
   "cell_type": "code",
   "execution_count": 10,
   "id": "63d99c49-b15f-46b6-b727-55a6ffb6be84",
   "metadata": {},
   "outputs": [
    {
     "name": "stderr",
     "output_type": "stream",
     "text": [
      "100%|██████████████████████████████████████████████████████████████████████████████████| 57/57 [00:23<00:00,  2.47it/s]\n"
     ]
    }
   ],
   "source": [
    "second_baseline = second_baseline(df_annotated_clean)"
   ]
  }
 ],
 "metadata": {
  "kernelspec": {
   "display_name": "Python 3 (ipykernel)",
   "language": "python",
   "name": "python3"
  },
  "language_info": {
   "codemirror_mode": {
    "name": "ipython",
    "version": 3
   },
   "file_extension": ".py",
   "mimetype": "text/x-python",
   "name": "python",
   "nbconvert_exporter": "python",
   "pygments_lexer": "ipython3",
   "version": "3.9.7"
  }
 },
 "nbformat": 4,
 "nbformat_minor": 5
}
